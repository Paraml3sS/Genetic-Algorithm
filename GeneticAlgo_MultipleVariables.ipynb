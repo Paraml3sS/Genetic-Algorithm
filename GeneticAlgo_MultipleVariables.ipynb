{
 "cells": [
  {
   "cell_type": "code",
   "execution_count": 3,
   "metadata": {},
   "outputs": [],
   "source": [
    "%matplotlib inline\n",
    "import matplotlib.pyplot as plt\n",
    "import numpy as np\n",
    "from sympy import *\n",
    "from math import log, ceil\n",
    "from random import randint\n",
    "import functools"
   ]
  },
  {
   "cell_type": "markdown",
   "metadata": {},
   "source": [
    "---"
   ]
  },
  {
   "cell_type": "code",
   "execution_count": 4,
   "metadata": {},
   "outputs": [],
   "source": [
    "class GeneticAlgo:\n",
    "\n",
    "    def __init__(self, a,b, functionOptions, \n",
    "                 populationOpts, operatorOpts, tournamentOpts,\n",
    "                 freezeLimit = 6, precision = 10**(-6)):\n",
    "        \n",
    "        self.a, self.b = a, b\n",
    "        self.func, self.funcVariables, self.funcFitness = functionOptions\n",
    "        self.popNumber, self.popSize = populationOpts        \n",
    "        self.mutationChance, self.crossChance = operatorOpts\n",
    "        self.tournamentMembersNumber = tournamentOpts\n",
    "        self.freezeLimit = freezeLimit\n",
    "        self.precision = precision\n",
    "        \n",
    "        self.__initValues()\n",
    "    \n",
    "        self.infoData = {\n",
    "            \"OffspringNUmber\": 0,\n",
    "            \"CurrentFittest\": []\n",
    "        }\n",
    "        \n",
    "\n",
    "# Initializaton functions\n",
    "#----------------------------------------------------------------------\n",
    "\n",
    "    def __initValues(self):\n",
    "        self.offspringNumber = 0\n",
    "        self.freezeNumber = 0\n",
    "        \n",
    "        self.length = self.__initLength()\n",
    "        self.population = self.__initPopulation()\n",
    "        self.fittest = self.__initFittest()\n",
    "        self.bits = self.__initMaxBits()\n",
    "        self.realPrecision = self.__initRealPrecision()\n",
    "        self.variablesNumber = len(self.funcVariables)\n",
    "\n",
    "    def __initLength(self): return self.b - self.a\n",
    "    \n",
    "    def __initPopulation(self): \n",
    "        zipElems = zip( *[ np.random.randint(self.a, self.b + 1, self.popSize) for variable in self.funcVariables ])\n",
    "        listElems = [ list(elem) for elem in zipElems]\n",
    "        return np.array(listElems)\n",
    "    \n",
    "    def __initFittest(self): return np.random.randint(self.a, self.b, len(self.funcVariables)) \n",
    "    \n",
    "    def __initMaxBits(self): return ceil(log(self.length/self.precision, 2))   \n",
    "    \n",
    "    def __initRealPrecision(self):\n",
    "        \n",
    "        maxBinaryinBaseTen = 2**self.bits / self.length\n",
    "        \n",
    "        return 1 / maxBinaryinBaseTen\n",
    "    \n",
    "    \n",
    "# Main functions\n",
    "#----------------------------------------------------------------------\n",
    "\n",
    "    def solve(self, displayData = False):\n",
    "        \n",
    "        while (self.freezeNumber < self.freezeLimit):\n",
    "            self.population = self.__offspring()\n",
    "            \n",
    "            if (not self.__newFitElemExist()):\n",
    "                self.freezeNumber+=1\n",
    "            self.offspringNumber+=1\n",
    "            \n",
    "            if displayData: self.__displayData()\n",
    "            \n",
    "        return self.fittest, self.__funcSubs(self.fittest)\n",
    "    \n",
    "        \n",
    "    def __offspring(self):\n",
    "            \n",
    "        children = []\n",
    "\n",
    "        while len(children) < self.popSize:\n",
    "\n",
    "            selected = self.__selectMultiple(2)     \n",
    "            mutated = self.__execute(self.__mutateMultiple, self.mutationChance, selected)\n",
    "            crossed = self.__execute(self.__crossMultiple, self.crossChance, mutated)\n",
    "\n",
    "            children.extend(self.__listToNumber(crossed))\n",
    "\n",
    "        return np.array(children)       \n",
    "        \n",
    "\n",
    "    def __select(self):\n",
    "    \n",
    "        indexes = np.random.choice(self.popSize, self.tournamentMembersNumber)\n",
    "        \n",
    "        competitors = self.population[indexes]\n",
    "        \n",
    "        winner = self.__tournament(competitors)\n",
    "        \n",
    "        return self.__toBinaryElem(winner)\n",
    "\n",
    "    \n",
    "    def __mutate(self, binary):\n",
    "        \n",
    "        index = np.random.randint(1, self.bits)\n",
    "        \n",
    "        binary[index] = self.__bitFlip(binary[index])\n",
    "        \n",
    "        return binary\n",
    "\n",
    "\n",
    "    def __cross(self, binaries):\n",
    "        \n",
    "        index = randint(1, self.bits)\n",
    "        \n",
    "        return self.__merge(binaries, index)  \n",
    "    \n",
    "                \n",
    "    def __newFitElemExist(self): \n",
    "        \n",
    "        sortedElements = self.__fitnessSort(self.population)\n",
    "        \n",
    "        currentFittest = sortedElements[0]\n",
    "        \n",
    "        self.infoData[\"CurrentFittest\"].append(self.__funcSubs(currentFittest))\n",
    "        \n",
    "        if self.__isFittest(currentFittest, self.fittest):\n",
    "            self.fittest = currentFittest\n",
    "            return True\n",
    "        \n",
    "        return False\n",
    "        \n",
    "        \n",
    "    def __isFittest(self, elem1, elem2): return self.funcFitness(self.__funcSubs(elem1), self.__funcSubs(elem2))\n",
    "    \n",
    "    def __getFittest(self, elem1, elem2): return elem1 if self.__isFittest(elem1, elem2) else elem2   \n",
    "        \n",
    "    \n",
    "#----------------------------------------------------------------------    \n",
    "\n",
    "\n",
    "    def __tournament(self, competitors): \n",
    "        \n",
    "        winner = competitors[0]\n",
    "        \n",
    "        for idx in range(1, self.tournamentMembersNumber):\n",
    "            winner = self.__getFittest(winner, competitors[idx])\n",
    "            \n",
    "        return winner\n",
    "    \n",
    "    \n",
    "    def __merge(self, elems, index):   \n",
    "        elem1, elem2 = elems    \n",
    "    \n",
    "        if index == 0: index+=1\n",
    "\n",
    "        for idx in range(index, self.bits):\n",
    "            elem1[idx], elem2[idx] = elem2[idx], \\\n",
    "                                     elem1[idx]\n",
    "        return elem1, elem2\n",
    "    \n",
    "        \n",
    "    def __evaluate(self): return [ (elem, self.__funcSubs(elem)) for elem in self.population ]\n",
    "                       \n",
    "                      \n",
    "    def __displayData(self):\n",
    "        print(\"\\n -------- \")\n",
    "        #print(f'population - {self.population}')\n",
    "        print(f'fittest = elem: {self.fittest}; func(elem): {self.__funcSubs(self.fittest)})')\n",
    "        print(f'freeze number - {self.freezeNumber}')\n",
    "        print(f'offspring number - {self.offspringNumber}')\n",
    "        #print(self.__evaluate())\n",
    "                      \n",
    "    \n",
    "# Helper functions\n",
    "#----------------------------------------------------------------------\n",
    "    def __execute(self, func, probability, value):\n",
    "        return func(value) if (randint(1, 100) / 100) < probability else value\n",
    "    \n",
    "    def __selectMultiple(self, n): \n",
    "        return [self.__select() for i in range(n)]\n",
    "    \n",
    "    def __mutateMultiple(self, elems): \n",
    "        return [ self.__mutateElem(elem) for elem in elems ]\n",
    "    \n",
    "    def __crossMultiple(self, elems):\n",
    "        return zip(*[ self.__cross(elem) for elem in zip(*elems) ])\n",
    "    \n",
    "    def __toBinaryElem(self, elem): \n",
    "        return [ self.__toBinary(number) for number in elem ]\n",
    "    \n",
    "    def __toNumberElem(self, elem):\n",
    "        return [ self.__toNumber(binary) for binary in elem ]\n",
    "    \n",
    "    def __mutateElem(self, elem): \n",
    "        return [ self.__mutate(binary) for binary in elem ]\n",
    "                      \n",
    "    def __funcSubs(self, values):        \n",
    "        return float(self.func.subs(dict(zip(self.funcVariables, values))))\n",
    "                      \n",
    "    def __fitnessSort(self, elements):\n",
    "        return sorted(elements, key = lambda elem: abs(self.__funcSubs(elem)))\n",
    "    \n",
    "\n",
    "# Utility functions\n",
    "#----------------------------------------------------------------------\n",
    "        \n",
    "    \n",
    "    def __toBinary(self, number): \n",
    "        \n",
    "        baseTen = (number - self.a) * 2**self.bits / self.length\n",
    "        \n",
    "        return list(\"{0:b}\".format(int(baseTen)).zfill(self.bits))\n",
    "        \n",
    "        \n",
    "    def __toNumber(self, bitList): \n",
    "                \n",
    "        baseTwo = sum([ int(bitList[i]) * (2**(self.bits - 1 - i)) for i in range(self.bits)])\n",
    "        \n",
    "        return self.a + baseTwo * (self.length / 2**self.bits)\n",
    "\n",
    "\n",
    "    def __listToNumber(self, elemList): \n",
    "        return [ self.__toNumberElem(elem) for elem in elemList ]\n",
    "                      \n",
    "    \n",
    "    def __bitFlip(self, bit): \n",
    "        return '1' if bit == '0' else '0'"
   ]
  },
  {
   "cell_type": "markdown",
   "metadata": {},
   "source": [
    "---"
   ]
  },
  {
   "cell_type": "markdown",
   "metadata": {},
   "source": [
    "## Initialization"
   ]
  },
  {
   "cell_type": "code",
   "execution_count": 5,
   "metadata": {},
   "outputs": [],
   "source": [
    "variables = x1, x2 = symbols(\"x1 x2\")"
   ]
  },
  {
   "cell_type": "code",
   "execution_count": 6,
   "metadata": {},
   "outputs": [],
   "source": [
    "def fitnessFunc(a,b): return abs(a) < abs(b)"
   ]
  },
  {
   "cell_type": "code",
   "execution_count": 7,
   "metadata": {},
   "outputs": [],
   "source": [
    "a, b = -10, 10\n",
    "func = x1*sin(10*pi*x2) + 1 \n",
    "\n",
    "functionOpts = func, variables, fitnessFunc\n",
    "populationOpts = populationNumber, populationSize = 5, 100\n",
    "operatorOpts = mutation, crossover = 0.2, 0.8\n",
    "tournamentMembersOpts = 3\n",
    "freezeLimit = 6\n",
    "precision = 10**-6"
   ]
  },
  {
   "cell_type": "markdown",
   "metadata": {},
   "source": [
    "## Calculation"
   ]
  },
  {
   "cell_type": "code",
   "execution_count": 8,
   "metadata": {},
   "outputs": [],
   "source": [
    "ga = GeneticAlgo(a,b, functionOpts, populationOpts, operatorOpts, tournamentMembersOpts, freezeLimit, precision)"
   ]
  },
  {
   "cell_type": "code",
   "execution_count": 9,
   "metadata": {
    "scrolled": true
   },
   "outputs": [
    {
     "data": {
      "text/plain": [
       "(array([-1.50015354, -2.9767704 ]), -0.00016018965460878128)"
      ]
     },
     "execution_count": 9,
     "metadata": {},
     "output_type": "execute_result"
    }
   ],
   "source": [
    "ga.solve()"
   ]
  },
  {
   "cell_type": "markdown",
   "metadata": {},
   "source": [
    "### Fitness function X Iteration"
   ]
  },
  {
   "cell_type": "code",
   "execution_count": 129,
   "metadata": {},
   "outputs": [
    {
     "data": {
      "text/plain": [
       "(array([ 7.99996853, -6.00398481]), 0.001126003835129014)"
      ]
     },
     "execution_count": 129,
     "metadata": {},
     "output_type": "execute_result"
    }
   ],
   "source": [
    "ga = GeneticAlgo(a,b, functionOpts, (5, 100), (0.2, 0.8), 3, freezeLimit, precision)\n",
    "ga.solve()"
   ]
  },
  {
   "cell_type": "code",
   "execution_count": 130,
   "metadata": {},
   "outputs": [
    {
     "data": {
      "text/plain": [
       "Text(0, 0.5, 'Current fittest')"
      ]
     },
     "execution_count": 130,
     "metadata": {},
     "output_type": "execute_result"
    },
    {
     "data": {
      "image/png": "[encoded data removed]",
      "text/plain": [
       "<Figure size 432x288 with 1 Axes>"
      ]
     },
     "metadata": {
      "needs_background": "light"
     },
     "output_type": "display_data"
    }
   ],
   "source": [
    "fittest = []\n",
    "    \n",
    "offspring = np.arange(0, ga.offspringNumber)\n",
    "fittest.extend(ga.infoData[\"CurrentFittest\"])\n",
    "\n",
    "plt.plot(offspring, fittest)\n",
    "plt.xlabel('Offspring')\n",
    "plt.ylabel('Current fittest')"
   ]
  },
  {
   "cell_type": "markdown",
   "metadata": {},
   "source": [
    "### Iteration with solution X Tournament members"
   ]
  },
  {
   "cell_type": "code",
   "execution_count": 132,
   "metadata": {},
   "outputs": [],
   "source": [
    "solutionInOffspring = []\n",
    "tournamentMembers = []\n",
    "\n",
    "for i in np.arange(2, 12, 1):\n",
    "    ga = GeneticAlgo(a,b, functionOpts, (5, 250), (0.2, 0.8), i, freezeLimit, precision)\n",
    "    ga.solve()\n",
    "    \n",
    "    tournamentMembers.append(i)\n",
    "    solutionInOffspring.append(ga.offspringNumber)"
   ]
  },
  {
   "cell_type": "code",
   "execution_count": 133,
   "metadata": {},
   "outputs": [
    {
     "data": {
      "text/plain": [
       "Text(0, 0.5, 'Offspring')"
      ]
     },
     "execution_count": 133,
     "metadata": {},
     "output_type": "execute_result"
    },
    {
     "data": {
      "image/png": "[encoded data removed]",
      "text/plain": [
       "<Figure size 432x288 with 1 Axes>"
      ]
     },
     "metadata": {
      "needs_background": "light"
     },
     "output_type": "display_data"
    }
   ],
   "source": [
    "plt.plot(tournamentMembers, solutionInOffspring)\n",
    "plt.xlabel('Tournament members')\n",
    "plt.ylabel('Offspring')"
   ]
  },
  {
   "cell_type": "markdown",
   "metadata": {},
   "source": [
    "---"
   ]
  },
  {
   "cell_type": "markdown",
   "metadata": {},
   "source": [
    "---"
   ]
  },
  {
   "cell_type": "raw",
   "metadata": {},
   "source": [
    "solutionInOffspring = []\n",
    "population = []\n",
    "\n",
    "for i in range(10, 1010, 100):\n",
    "    ga = GeneticAlgo(a,b, func,variables, fitnessFunc, (5, i), (0.2, 0.8), 2, freezeLimit, precision)\n",
    "    fitVal = ga.solve()\n",
    "    \n",
    "    population.append(i)\n",
    "    solutionInOffspring.append(ga.infoData[\"OffspringNUmber\"])\n",
    "\n",
    "print(fitVal)\n",
    "plt.plot(population, solutionInOffspring)\n",
    "plt.xlabel('Population Size')\n",
    "plt.ylabel('Offspring')"
   ]
  },
  {
   "cell_type": "raw",
   "metadata": {},
   "source": [
    "solutionInOffspring = []\n",
    "mutation = []\n",
    "\n",
    "for i in np.arange(0.00, 1, 0.05):\n",
    "    ga = GeneticAlgo(a,b, func,variables, fitnessFunc, (5, 100), (i, 0.8), 2, freezeLimit, precision)\n",
    "    fitVal = ga.solve()\n",
    "    \n",
    "    mutation.append(i)\n",
    "    solutionInOffspring.append(ga.infoData[\"OffspringNUmber\"])\n",
    "\n",
    "print(fitVal)\n",
    "plt.plot(mutation, solutionInOffspring)\n",
    "plt.xlabel('Mutation')\n",
    "plt.ylabel('Offspring')"
   ]
  }
 ],
 "metadata": {
  "kernelspec": {
   "display_name": "Python 3",
   "language": "python",
   "name": "python3"
  },
  "language_info": {
   "codemirror_mode": {
    "name": "ipython",
    "version": 3
   },
   "file_extension": ".py",
   "mimetype": "text/x-python",
   "name": "python",
   "nbconvert_exporter": "python",
   "pygments_lexer": "ipython3",
   "version": "3.7.1"
  }
 },
 "nbformat": 4,
 "nbformat_minor": 2
}
